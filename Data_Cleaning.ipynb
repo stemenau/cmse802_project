{
 "cells": [
  {
   "cell_type": "markdown",
   "id": "ed6af5d1",
   "metadata": {},
   "source": [
    "Data: PFAS Master List of PFAS Substances (RETIRED) https://comptox.epa.gov/dashboard/chemical-lists/pfasmaster "
   ]
  },
  {
   "cell_type": "code",
   "execution_count": 28,
   "id": "bdd91c28",
   "metadata": {},
   "outputs": [
    {
     "name": "stderr",
     "output_type": "stream",
     "text": [
      "[13:12:38] Explicit valence for atom # 7 P, 6, is greater than permitted\n",
      "[13:12:38] Explicit valence for atom # 1 Ge, 5, is greater than permitted\n"
     ]
    }
   ],
   "source": [
    "# Import necessary packages\n",
    "import pandas as pd \n",
    "from rdkit import Chem\n",
    "\n",
    "# Read CSV file into a Pandas DataFrame\n",
    "data_init = pd.read_csv('Chemical List pfasmaster-2025-09-13.csv')\n",
    "\n",
    "# Clean DataFrame by removing unnecessary columns\n",
    "data_trunc= data_init.drop(columns=['DTXSID','INCHIKEY','IUPAC NAME','INCHI STRING','MONOISOTOPIC MASS','QC Level','# ToxCast Active','Total Assays','% ToxCast Active'])\n",
    "\n",
    "# Canonicalize SMILES strings and add as a new column\n",
    "def get_canonical_smiles(smiles):\n",
    "    if isinstance(smiles, str):  # Only process strings, line suggested by ChatGPT, GPT-5\n",
    "        mol = Chem.MolFromSmiles(smiles)\n",
    "        if mol:\n",
    "            return Chem.MolToSmiles(mol, canonical=True)\n",
    "    else:\n",
    "        return None  # return None if invalid or not a string\n",
    "\n",
    "data_trunc['Canonical SMILES'] = data_trunc['SMILES'].apply(get_canonical_smiles)\n",
    "\n",
    "# Remove duplicate SMILES entries\n",
    "data = data_trunc.drop_duplicates(subset=['Canonical SMILES'], keep='first').reset_index(drop=True)"
   ]
  }
 ],
 "metadata": {
  "kernelspec": {
   "display_name": "Python 3",
   "language": "python",
   "name": "python3"
  },
  "language_info": {
   "codemirror_mode": {
    "name": "ipython",
    "version": 3
   },
   "file_extension": ".py",
   "mimetype": "text/x-python",
   "name": "python",
   "nbconvert_exporter": "python",
   "pygments_lexer": "ipython3",
   "version": "3.13.5"
  }
 },
 "nbformat": 4,
 "nbformat_minor": 5
}
